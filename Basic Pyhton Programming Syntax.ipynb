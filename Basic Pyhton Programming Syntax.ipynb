{
 "cells": [
  {
   "cell_type": "markdown",
   "metadata": {},
   "source": [
    "## <font color = \"purple\">Chapter 2: Input, Output, Variable Assignment, data types in Python </font>\n",
    "\n",
    "A useful link : http://www.pythontutor.com/visualize.html#mode=edit"
   ]
  },
  {
   "cell_type": "markdown",
   "metadata": {},
   "source": [
    "###  Author: Proud student of 7990"
   ]
  },
  {
   "cell_type": "code",
   "execution_count": null,
   "metadata": {},
   "outputs": [],
   "source": [
    "print(\"aha! my first line of code!!!! \")"
   ]
  },
  {
   "cell_type": "markdown",
   "metadata": {},
   "source": [
    "### The next cell shows how to define variables and assign values to the variables. \n",
    "#### It also shows how to output (print) several variables along with text strings, all in a single print\n",
    "\n",
    "notice how comments are added to the first four lines below"
   ]
  },
  {
   "cell_type": "code",
   "execution_count": null,
   "metadata": {},
   "outputs": [],
   "source": [
    "fname = \"Robert\"       # text string is stored in fname\n",
    "age = 24               # an integer is stored in age\n",
    "hours = 42.5           # a real value is stored in hours \n",
    "wage_rate = 30.00      # a real value is stored in wage_rate\n",
    "\n",
    "# Display (print) values of all the variables in a single print statement\n",
    "print(\"fname =\",fname, \"age = \", age, \"hours worked = \", hours, \"wage per hour = \", wage_rate)"
   ]
  },
  {
   "cell_type": "markdown",
   "metadata": {},
   "source": [
    "###  use escape characters  \\n or \\t  in string literals  to start a new line, or tab forward"
   ]
  },
  {
   "cell_type": "markdown",
   "metadata": {},
   "source": [
    "### you can also prevent new line advancement in the print statement"
   ]
  },
  {
   "cell_type": "code",
   "execution_count": null,
   "metadata": {},
   "outputs": [],
   "source": [
    "\n",
    "fname = \"Robert\"   \n",
    "age = 24           \n",
    "hours = 42.5        \n",
    "wage_rate = 30.00  \n",
    "\n",
    "# Normally, after each print statement, a new line character is printed, so that the next print statement \n",
    "# prints in a new line. You can prevent that specifying  end = \" \"\n",
    "print(fname)\n",
    "print(age)\n",
    "print(hours)\n",
    "print(\"next line\")"
   ]
  },
  {
   "cell_type": "markdown",
   "metadata": {},
   "source": [
    "### Calculate Robert's gross income in the week"
   ]
  },
  {
   "cell_type": "code",
   "execution_count": null,
   "metadata": {},
   "outputs": [],
   "source": [
    "gross_income = hours * wage_rate\n",
    "print(\"Robert's Gross Income = \", gross_income, \"dollars\")"
   ]
  },
  {
   "cell_type": "markdown",
   "metadata": {},
   "source": [
    "### There are two ways to display the current value of a variable. \n",
    "1. you can simply type the name and display\n",
    "2. you can also use the print() function. "
   ]
  },
  {
   "cell_type": "markdown",
   "metadata": {},
   "source": [
    "### <font color=\"Red\">Any input from the keyboard is ALWAYS read as a string. You can then convert it to a float or int as necessary</font>"
   ]
  },
  {
   "cell_type": "code",
   "execution_count": null,
   "metadata": {},
   "outputs": [],
   "source": [
    "# notice that print function display a text string without the quotes, where as if you display the\n",
    "#variable, it shows a string variable with quotes.\n",
    "#gpa  = input(\"what is your gpa? \")\n"
   ]
  },
  {
   "cell_type": "markdown",
   "metadata": {},
   "source": [
    "### Let us redo the same problem, but this time ask the user for hours worked."
   ]
  },
  {
   "cell_type": "code",
   "execution_count": null,
   "metadata": {},
   "outputs": [],
   "source": [
    "fname = \"Robert\"\n",
    "age = 24\n",
    "wage_rate = 30.00\n",
    "\n",
    "\"\"\"\n",
    "the input function reads the user input as a text string. We need to convert it to a floating point\n",
    "number (or an integer) in order to perform arithmetic with it.\n",
    "\"\"\"\n",
    "hours = float(input(\"how many hours did you work? \" ))\n",
    "\n",
    "# calculate gross_income based on hours input by user\n",
    "gross_income = wage_rate * hours\n",
    "# print Robert's Gross income\n",
    "print(fname, \"made  $\", gross_income)\n"
   ]
  },
  {
   "cell_type": "markdown",
   "metadata": {},
   "source": [
    "###  <font color = \"purple\">  +, -, *, /, **   are the addition, subtraction, multiplication, division, and exponentiation operations.  There are two additional arithmetic operators.</font>\n",
    "\n",
    "### <font color = \"blue\"> integer division  (//)  and remainder (%) operators are useful.</font>"
   ]
  },
  {
   "cell_type": "code",
   "execution_count": null,
   "metadata": {},
   "outputs": [],
   "source": [
    "# integer division  returns the quotient"
   ]
  },
  {
   "cell_type": "code",
   "execution_count": null,
   "metadata": {},
   "outputs": [],
   "source": [
    "# remainder after division"
   ]
  },
  {
   "cell_type": "markdown",
   "metadata": {},
   "source": [
    "### type() is a function in Python that can tell you the datatype of a variable "
   ]
  },
  {
   "cell_type": "code",
   "execution_count": null,
   "metadata": {},
   "outputs": [],
   "source": [
    "# what is the data type of the variable age?\n",
    "type(age)"
   ]
  },
  {
   "cell_type": "code",
   "execution_count": null,
   "metadata": {},
   "outputs": [],
   "source": [
    "# what is the data type of the variable fname?\n",
    "type(fname)"
   ]
  },
  {
   "cell_type": "code",
   "execution_count": null,
   "metadata": {},
   "outputs": [],
   "source": [
    "# what is the data type of the variable fname?\n",
    "type(hours)"
   ]
  },
  {
   "cell_type": "code",
   "execution_count": null,
   "metadata": {},
   "outputs": [],
   "source": [
    "# what is the data type of the variable gpa?\n",
    "type(gpa)"
   ]
  },
  {
   "cell_type": "markdown",
   "metadata": {},
   "source": [
    "\n",
    "### <font color=\"blue\">A boolean variable can take on only one of two possible values,  True  or False</font>\n",
    "### Boolean Variables are defined in Chapter 3\n",
    "### Boolean variables are often used to represent a Switch (on/off)\n",
    "\n",
    "Note both True and False must be capitalized.   True and False are **reserved words**."
   ]
  },
  {
   "cell_type": "code",
   "execution_count": null,
   "metadata": {},
   "outputs": [],
   "source": [
    "True = 17"
   ]
  },
  {
   "cell_type": "code",
   "execution_count": null,
   "metadata": {},
   "outputs": [],
   "source": [
    "isStudent = True\n",
    "type(isStudent)"
   ]
  },
  {
   "cell_type": "code",
   "execution_count": null,
   "metadata": {},
   "outputs": [],
   "source": [
    "a = 22\n",
    "b = 13\n",
    "c = -5\n",
    "\n",
    "a > b         # this expression is a Logical expression. It can be True, or False"
   ]
  },
  {
   "cell_type": "markdown",
   "metadata": {},
   "source": [
    "#### you can save the value of a logical expression, if you want to"
   ]
  },
  {
   "cell_type": "code",
   "execution_count": null,
   "metadata": {},
   "outputs": [],
   "source": [
    "save =  a > b      # save is a boolean variable\n",
    "print(save)\n",
    "type(save)"
   ]
  },
  {
   "cell_type": "code",
   "execution_count": null,
   "metadata": {},
   "outputs": [],
   "source": [
    "a = 22\n",
    "b = 13\n",
    "c = -5\n",
    "student = True\n",
    "name = \"alice\"\n",
    "\n",
    "#a == b           #Logical expression. compares a and b. Is a equal to b ?   "
   ]
  },
  {
   "cell_type": "markdown",
   "metadata": {},
   "source": [
    "### <font color= \"purple\">Compund Logical Expressions</font>\n",
    "\n",
    "### and, or, not"
   ]
  },
  {
   "cell_type": "code",
   "execution_count": null,
   "metadata": {},
   "outputs": [],
   "source": [
    "a > b and c < b"
   ]
  },
  {
   "cell_type": "code",
   "execution_count": null,
   "metadata": {},
   "outputs": [],
   "source": [
    "name == \"Robert\" or student"
   ]
  },
  {
   "cell_type": "markdown",
   "metadata": {},
   "source": [
    "### Truth value of compound logical expressions "
   ]
  },
  {
   "cell_type": "code",
   "execution_count": null,
   "metadata": {},
   "outputs": [],
   "source": [
    "x = 15\n",
    "y = -15\n",
    "z = 32"
   ]
  },
  {
   "cell_type": "code",
   "execution_count": null,
   "metadata": {},
   "outputs": [],
   "source": [
    "#x == y and y < z "
   ]
  },
  {
   "cell_type": "code",
   "execution_count": null,
   "metadata": {},
   "outputs": [],
   "source": [
    "#x == y or y < z  "
   ]
  },
  {
   "cell_type": "markdown",
   "metadata": {},
   "source": [
    "#### Evaluate the Truth value of each of the following expressions, one at a time. \n",
    "#### Figure out the answer first and then only exucute in Python to check your answer"
   ]
  },
  {
   "cell_type": "code",
   "execution_count": null,
   "metadata": {},
   "outputs": [],
   "source": [
    "#x == abs(y) and y < z   \n",
    "#x == abs(y) or y < z    \n",
    "#not x == abs(y)         \n",
    "#not x != abs(y)   "
   ]
  }
 ],
 "metadata": {
  "kernelspec": {
   "display_name": "Python 3",
   "language": "python",
   "name": "python3"
  },
  "language_info": {
   "codemirror_mode": {
    "name": "ipython",
    "version": 3
   },
   "file_extension": ".py",
   "mimetype": "text/x-python",
   "name": "python",
   "nbconvert_exporter": "python",
   "pygments_lexer": "ipython3",
   "version": "3.7.4"
  }
 },
 "nbformat": 4,
 "nbformat_minor": 2
}
